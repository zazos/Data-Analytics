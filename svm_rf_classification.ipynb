{
 "cells": [
  {
   "cell_type": "code",
   "execution_count": 1,
   "metadata": {},
   "outputs": [
    {
     "name": "stderr",
     "output_type": "stream",
     "text": [
      "[nltk_data] Downloading package punkt to\n",
      "[nltk_data]     C:\\Users\\pzazo\\AppData\\Roaming\\nltk_data...\n",
      "[nltk_data]   Package punkt is already up-to-date!\n",
      "[nltk_data] Downloading package stopwords to\n",
      "[nltk_data]     C:\\Users\\pzazo\\AppData\\Roaming\\nltk_data...\n",
      "[nltk_data]   Package stopwords is already up-to-date!\n"
     ]
    }
   ],
   "source": [
    "import re\n",
    "import pandas as pd\n",
    "import nltk\n",
    "import subprocess\n",
    "nltk.download('punkt')\n",
    "nltk.download('stopwords')\n",
    "from nltk.corpus import wordnet\n",
    "from nltk.corpus import stopwords\n",
    "from nltk.tokenize import word_tokenize\n",
    "from nltk.stem import WordNetLemmatizer"
   ]
  },
  {
   "cell_type": "markdown",
   "metadata": {},
   "source": [
    "# Preprocess the Dataset"
   ]
  },
  {
   "cell_type": "code",
   "execution_count": 2,
   "metadata": {},
   "outputs": [],
   "source": [
    "regex_pattern = re.compile(r'[^a-zA-Z0-9\\s]')\n",
    "stop_words = set(stopwords.words('english'))\n",
    "lemmatizer = WordNetLemmatizer()\n",
    "\n",
    "def preprocess_text(text):\n",
    "    text = regex_pattern.sub('', text)\n",
    "    text = text.lower()\n",
    "    tokens = word_tokenize(text)\n",
    "    lemmatized_tokens = [lemmatizer.lemmatize(token) for token in tokens if token not in stop_words]\n",
    "    return ' '.join(lemmatized_tokens)"
   ]
  },
  {
   "cell_type": "code",
   "execution_count": 3,
   "metadata": {},
   "outputs": [],
   "source": [
    "df = pd.read_csv('bigdata2023classification/train.csv', delimiter=',')\n",
    "df['Content'] = df['Content'].apply(preprocess_text)"
   ]
  },
  {
   "cell_type": "markdown",
   "metadata": {},
   "source": [
    "# Plot WordClouds"
   ]
  },
  {
   "cell_type": "code",
   "execution_count": 4,
   "metadata": {},
   "outputs": [],
   "source": [
    "    # import matplotlib.pyplot as plt\n",
    "    # from wordcloud import WordCloud\n",
    "    \n",
    "    # plt.style.use('ggplot')\n",
    "\n",
    "    # for category in df['Label'].unique():\n",
    "    #     texts = df[df['Label'] == category]['Content'].tolist()\n",
    "\n",
    "    #     aggregated_text = \" \".join(texts)\n",
    "\n",
    "    #     wordcloud = WordCloud(width=800, height=800, \n",
    "    #                           background_color='white',\n",
    "    #                          colormap='viridis',\n",
    "    #                          max_words=150,\n",
    "    #                          contour_color='steelblue',\n",
    "    #                          contour_width=3).generate(aggregated_text)\n",
    "\n",
    "    #     plt.figure(figsize=(8, 8))\n",
    "    #     plt.imshow(wordcloud, interpolation='bilinear')\n",
    "    #     plt.title(f\"Word Cloud for {category} Category\", fontsize=14, fontweight='bold')\n",
    "    #     plt.axis(\"off\")\n",
    "    #     plt.tight_layout(pad=0)\n",
    "    #     plt.show()"
   ]
  },
  {
   "cell_type": "code",
   "execution_count": 5,
   "metadata": {},
   "outputs": [
    {
     "name": "stdout",
     "output_type": "stream",
     "text": [
      "\n",
      "SVM BOW:\n",
      "Accuracy: 0.964301\n",
      "Precision: 0.962580\n",
      "Recall: 0.959800\n",
      "\n",
      "Random Forest BOW:\n",
      "Accuracy: 0.754363\n",
      "Precision: 0.853802\n",
      "Recall: 0.676196\n",
      "\n",
      "SVM SVD:\n",
      "Accuracy: 0.893197\n",
      "Precision: 0.886952\n",
      "Recall: 0.872538\n",
      "\n",
      "Random Forest SVD:\n",
      "Accuracy: 0.879521\n",
      "Precision: 0.879919\n",
      "Recall: 0.849225\n"
     ]
    }
   ],
   "source": [
    "from sklearn.pipeline import Pipeline\n",
    "from sklearn.model_selection import cross_validate, KFold\n",
    "from sklearn.feature_extraction.text import HashingVectorizer\n",
    "from sklearn.decomposition import TruncatedSVD\n",
    "from sklearn.svm import LinearSVC\n",
    "from sklearn.ensemble import RandomForestClassifier\n",
    "\n",
    "X = df['Content']\n",
    "y = df['Label']\n",
    "\n",
    "cv = KFold(n_splits=5, shuffle=True, random_state=42)\n",
    "\n",
    "svm_bow_pipeline = Pipeline([\n",
    "    ('vect', HashingVectorizer(n_features=2**14, alternate_sign=False)),\n",
    "    ('clf', LinearSVC(dual=False))\n",
    "])\n",
    "\n",
    "rf_bow_pipeline = Pipeline([\n",
    "    ('vect', HashingVectorizer(n_features=2**14, alternate_sign=False)),\n",
    "    ('clf', RandomForestClassifier(n_estimators=100, max_depth=10, n_jobs=-1))\n",
    "])\n",
    "\n",
    "svm_svd_pipeline = Pipeline([\n",
    "    ('vect', HashingVectorizer(n_features=2**14, alternate_sign=False)),\n",
    "    ('svd', TruncatedSVD(n_components=50)),\n",
    "    ('clf', LinearSVC(dual=False))\n",
    "])\n",
    "\n",
    "rf_svd_pipeline = Pipeline([\n",
    "    ('vect', HashingVectorizer(n_features=2**14, alternate_sign=False)),\n",
    "    ('svd', TruncatedSVD(n_components=50)),\n",
    "    ('clf', RandomForestClassifier(n_estimators=100, max_depth=10, n_jobs=-1))\n",
    "])\n",
    "\n",
    "pipelines = {\n",
    "    'SVM BOW': svm_bow_pipeline,\n",
    "    'Random Forest BOW': rf_bow_pipeline,\n",
    "    'SVM SVD': svm_svd_pipeline,\n",
    "    'Random Forest SVD': rf_svd_pipeline\n",
    "}\n",
    "\n",
    "scoring = {'accuracy': 'accuracy',\n",
    "           'precision': 'precision_macro',\n",
    "           'recall': 'recall_macro'\n",
    "}\n",
    "\n",
    "for name, pipeline in pipelines.items():\n",
    "    scores = cross_validate(pipeline, X, y, cv=cv, scoring=scoring, n_jobs=-1)\n",
    "    print(f\"\\n{name}:\")\n",
    "    print(\"Accuracy: {:3f}\".format(scores['test_accuracy'].mean()))\n",
    "    print(\"Precision: {:3f}\".format(scores['test_precision'].mean()))\n",
    "    print(\"Recall: {:3f}\".format(scores['test_recall'].mean()))\n"
   ]
  },
  {
   "cell_type": "code",
   "execution_count": null,
   "metadata": {},
   "outputs": [],
   "source": []
  }
 ],
 "metadata": {
  "kernelspec": {
   "display_name": "base",
   "language": "python",
   "name": "python3"
  },
  "language_info": {
   "codemirror_mode": {
    "name": "ipython",
    "version": 3
   },
   "file_extension": ".py",
   "mimetype": "text/x-python",
   "name": "python",
   "nbconvert_exporter": "python",
   "pygments_lexer": "ipython3",
   "version": "3.11.7"
  }
 },
 "nbformat": 4,
 "nbformat_minor": 2
}
